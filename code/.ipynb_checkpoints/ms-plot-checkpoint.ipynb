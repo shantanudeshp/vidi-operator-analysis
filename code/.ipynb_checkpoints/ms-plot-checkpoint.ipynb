{
 "cells": [
  {
   "cell_type": "code",
   "execution_count": null,
   "id": "71d98a44-9dce-483f-99a7-c21f2c2355de",
   "metadata": {},
   "outputs": [],
   "source": [
    "import matplotlib\n",
    "import matplotlib.pyplot as plt\n",
    "import numpy as np\n",
    "\n",
    "from skfda import datasets\n",
    "from skfda.exploratory.depth import IntegratedDepth\n",
    "from skfda.exploratory.depth.multivariate import SimplicialDepth\n",
    "from skfda.exploratory.visualization import MagnitudeShapePlot"
   ]
  },
  {
   "cell_type": "code",
   "execution_count": null,
   "id": "75c3b124-f717-41ff-99a7-1b0b8b5718c4",
   "metadata": {},
   "outputs": [],
   "source": [
    "X, y = datasets.fetch_weather(return_X_y=True, as_frame=True)\n",
    "fd = X.iloc[:, 0].values\n",
    "fd_temperatures = fd.coordinates[0]\n",
    "target = y.values"
   ]
  },
  {
   "cell_type": "code",
   "execution_count": null,
   "id": "47d6d1d5-c210-4927-becb-bb13a82f4a00",
   "metadata": {},
   "outputs": [],
   "source": [
    "# Each climate is assigned a color. Defaults to grey.\n",
    "colormap = matplotlib.colormaps['seismic']\n",
    "label_names = target.categories\n",
    "nlabels = len(label_names)\n",
    "label_colors = colormap(np.arange(nlabels) / (nlabels - 1))\n",
    "\n",
    "fd_temperatures.plot(\n",
    "    group=target.codes,\n",
    "    group_colors=label_colors,\n",
    "    group_names=label_names,\n",
    ")"
   ]
  },
  {
   "cell_type": "code",
   "execution_count": null,
   "id": "5ad49fad-b3a4-418a-811f-1ba4d2f3b2d0",
   "metadata": {},
   "outputs": [],
   "source": [
    "msplot = MagnitudeShapePlot(\n",
    "    fd_temperatures,\n",
    "    multivariate_depth=SimplicialDepth(),\n",
    ")\n",
    "\n",
    "color = 0.3\n",
    "outliercol = 0.7\n",
    "\n",
    "msplot.color = color\n",
    "msplot.outliercol = outliercol\n",
    "msplot.plot()"
   ]
  },
  {
   "cell_type": "code",
   "execution_count": null,
   "id": "337d4ee7-3138-479e-a8fe-81898f20ebfa",
   "metadata": {},
   "outputs": [],
   "source": [
    "fd_temperatures.plot(\n",
    "    group=msplot.outliers.astype(int),\n",
    "    group_colors=msplot.colormap([color, outliercol]),\n",
    "    group_names=['nonoutliers', 'outliers'],\n",
    ")"
   ]
  },
  {
   "cell_type": "code",
   "execution_count": null,
   "id": "b3c41b60-e525-4230-b94e-d501ca26d601",
   "metadata": {},
   "outputs": [],
   "source": [
    "msplot = MagnitudeShapePlot(\n",
    "    fd_temperatures,\n",
    "    multivariate_depth=IntegratedDepth().multivariate_depth,\n",
    ")\n",
    "\n",
    "msplot.color = color\n",
    "msplot.outliercol = outliercol\n",
    "msplot.plot()"
   ]
  },
  {
   "cell_type": "code",
   "execution_count": null,
   "id": "9ac35106-2f8f-4363-aad6-3012277183b4",
   "metadata": {},
   "outputs": [],
   "source": []
  }
 ],
 "metadata": {
  "kernelspec": {
   "display_name": "Python 3 (ipykernel)",
   "language": "python",
   "name": "python3"
  },
  "language_info": {
   "codemirror_mode": {
    "name": "ipython",
    "version": 3
   },
   "file_extension": ".py",
   "mimetype": "text/x-python",
   "name": "python",
   "nbconvert_exporter": "python",
   "pygments_lexer": "ipython3",
   "version": "3.12.3"
  }
 },
 "nbformat": 4,
 "nbformat_minor": 5
}
