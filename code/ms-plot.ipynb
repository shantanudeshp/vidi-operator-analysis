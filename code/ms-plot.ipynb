{
 "cells": [
  {
   "cell_type": "code",
   "execution_count": 1,
   "id": "71d98a44-9dce-483f-99a7-c21f2c2355de",
   "metadata": {},
   "outputs": [],
   "source": [
    "import matplotlib\n",
    "import matplotlib.pyplot as plt\n",
    "import numpy as np\n",
    "\n",
    "from skfda import datasets\n",
    "from skfda.exploratory.depth import IntegratedDepth\n",
    "from skfda.exploratory.depth.multivariate import SimplicialDepth\n",
    "from skfda.exploratory.visualization import MagnitudeShapePlot"
   ]
  },
  {
   "cell_type": "code",
   "execution_count": 4,
   "id": "75c3b124-f717-41ff-99a7-1b0b8b5718c4",
   "metadata": {},
   "outputs": [
    {
     "ename": "AttributeError",
     "evalue": "",
     "output_type": "error",
     "traceback": [
      "\u001b[0;31m---------------------------------------------------------------------------\u001b[0m",
      "\u001b[0;31mKeyError\u001b[0m                                  Traceback (most recent call last)",
      "File \u001b[0;32m/opt/miniconda3/lib/python3.12/site-packages/sklearn/datasets/__init__.py:158\u001b[0m, in \u001b[0;36m__getattr__\u001b[0;34m(name)\u001b[0m\n\u001b[1;32m    157\u001b[0m \u001b[38;5;28;01mtry\u001b[39;00m:\n\u001b[0;32m--> 158\u001b[0m     \u001b[38;5;28;01mreturn\u001b[39;00m \u001b[38;5;28;43mglobals\u001b[39;49m\u001b[43m(\u001b[49m\u001b[43m)\u001b[49m\u001b[43m[\u001b[49m\u001b[43mname\u001b[49m\u001b[43m]\u001b[49m\n\u001b[1;32m    159\u001b[0m \u001b[38;5;28;01mexcept\u001b[39;00m \u001b[38;5;167;01mKeyError\u001b[39;00m:\n\u001b[1;32m    160\u001b[0m     \u001b[38;5;66;03m# This is turned into the appropriate ImportError\u001b[39;00m\n",
      "\u001b[0;31mKeyError\u001b[0m: 'fetch_weather'",
      "\nDuring handling of the above exception, another exception occurred:\n",
      "\u001b[0;31mAttributeError\u001b[0m                            Traceback (most recent call last)",
      "Cell \u001b[0;32mIn[4], line 1\u001b[0m\n\u001b[0;32m----> 1\u001b[0m X, y \u001b[38;5;241m=\u001b[39m \u001b[43mdatasets\u001b[49m\u001b[38;5;241;43m.\u001b[39;49m\u001b[43mfetch_weather\u001b[49m(return_X_y\u001b[38;5;241m=\u001b[39m\u001b[38;5;28;01mTrue\u001b[39;00m, as_frame\u001b[38;5;241m=\u001b[39m\u001b[38;5;28;01mTrue\u001b[39;00m)\n\u001b[1;32m      2\u001b[0m fd \u001b[38;5;241m=\u001b[39m X\u001b[38;5;241m.\u001b[39miloc[:, \u001b[38;5;241m0\u001b[39m]\u001b[38;5;241m.\u001b[39mvalues\n\u001b[1;32m      3\u001b[0m fd_temperatures \u001b[38;5;241m=\u001b[39m fd\u001b[38;5;241m.\u001b[39mcoordinates[\u001b[38;5;241m0\u001b[39m]\n",
      "File \u001b[0;32m/opt/miniconda3/lib/python3.12/site-packages/sklearn/datasets/__init__.py:161\u001b[0m, in \u001b[0;36m__getattr__\u001b[0;34m(name)\u001b[0m\n\u001b[1;32m    158\u001b[0m     \u001b[38;5;28;01mreturn\u001b[39;00m \u001b[38;5;28mglobals\u001b[39m()[name]\n\u001b[1;32m    159\u001b[0m \u001b[38;5;28;01mexcept\u001b[39;00m \u001b[38;5;167;01mKeyError\u001b[39;00m:\n\u001b[1;32m    160\u001b[0m     \u001b[38;5;66;03m# This is turned into the appropriate ImportError\u001b[39;00m\n\u001b[0;32m--> 161\u001b[0m     \u001b[38;5;28;01mraise\u001b[39;00m \u001b[38;5;167;01mAttributeError\u001b[39;00m\n",
      "\u001b[0;31mAttributeError\u001b[0m: "
     ]
    }
   ],
   "source": [
    "X, y = datasets.fetch_weather(return_X_y=True, as_frame=True)\n",
    "fd = X.iloc[:, 0].values\n",
    "fd_temperatures = fd.coordinates[0]\n",
    "target = y.values"
   ]
  },
  {
   "cell_type": "code",
   "execution_count": null,
   "id": "47d6d1d5-c210-4927-becb-bb13a82f4a00",
   "metadata": {},
   "outputs": [],
   "source": [
    "# Each climate is assigned a color. Defaults to grey.\n",
    "colormap = matplotlib.colormaps['seismic']\n",
    "label_names = target.categories\n",
    "nlabels = len(label_names)\n",
    "label_colors = colormap(np.arange(nlabels) / (nlabels - 1))\n",
    "\n",
    "fd_temperatures.plot(\n",
    "    group=target.codes,\n",
    "    group_colors=label_colors,\n",
    "    group_names=label_names,\n",
    ")"
   ]
  },
  {
   "cell_type": "code",
   "execution_count": null,
   "id": "5ad49fad-b3a4-418a-811f-1ba4d2f3b2d0",
   "metadata": {},
   "outputs": [],
   "source": [
    "msplot = MagnitudeShapePlot(\n",
    "    fd_temperatures,\n",
    "    multivariate_depth=SimplicialDepth(),\n",
    ")\n",
    "\n",
    "color = 0.3\n",
    "outliercol = 0.7\n",
    "\n",
    "msplot.color = color\n",
    "msplot.outliercol = outliercol\n",
    "msplot.plot()"
   ]
  },
  {
   "cell_type": "code",
   "execution_count": null,
   "id": "337d4ee7-3138-479e-a8fe-81898f20ebfa",
   "metadata": {},
   "outputs": [],
   "source": [
    "fd_temperatures.plot(\n",
    "    group=msplot.outliers.astype(int),\n",
    "    group_colors=msplot.colormap([color, outliercol]),\n",
    "    group_names=['nonoutliers', 'outliers'],\n",
    ")"
   ]
  },
  {
   "cell_type": "code",
   "execution_count": null,
   "id": "b3c41b60-e525-4230-b94e-d501ca26d601",
   "metadata": {},
   "outputs": [],
   "source": [
    "msplot = MagnitudeShapePlot(\n",
    "    fd_temperatures,\n",
    "    multivariate_depth=IntegratedDepth().multivariate_depth,\n",
    ")\n",
    "\n",
    "msplot.color = color\n",
    "msplot.outliercol = outliercol\n",
    "msplot.plot()"
   ]
  },
  {
   "cell_type": "code",
   "execution_count": null,
   "id": "9ac35106-2f8f-4363-aad6-3012277183b4",
   "metadata": {},
   "outputs": [],
   "source": []
  }
 ],
 "metadata": {
  "kernelspec": {
   "display_name": "Python 3 (ipykernel)",
   "language": "python",
   "name": "python3"
  },
  "language_info": {
   "codemirror_mode": {
    "name": "ipython",
    "version": 3
   },
   "file_extension": ".py",
   "mimetype": "text/x-python",
   "name": "python",
   "nbconvert_exporter": "python",
   "pygments_lexer": "ipython3",
   "version": "3.12.3"
  }
 },
 "nbformat": 4,
 "nbformat_minor": 5
}
